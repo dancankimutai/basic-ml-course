{
  "cells": [
    {
      "cell_type": "markdown",
      "metadata": {
        "id": "view-in-github",
        "colab_type": "text"
      },
      "source": [
        "<a href=\"https://colab.research.google.com/github/dancankimutai/basic-ml-course/blob/naive-bayes/05_Naive_Bayes/Solution.ipynb\" target=\"_parent\"><img src=\"https://colab.research.google.com/assets/colab-badge.svg\" alt=\"Open In Colab\"/></a>"
      ]
    },
    {
      "cell_type": "markdown",
      "metadata": {
        "id": "h6sFU3yy9rKe"
      },
      "source": [
        "In this assignment, we will implement Bernoulli Naive Bayes and Multinomial Naive Bayes, and apply them for text classification. \\\\\n",
        "We will experiment on the 20 newsgroups text dataset. It comprises around 18000 newsgroups posts on 20 topics split in two subsets: one for training (or development) and the other one for testing (or for performance evaluation). \\\\\n",
        "First, we load the dataset from sklearn"
      ]
    },
    {
      "cell_type": "code",
      "execution_count": 105,
      "metadata": {
        "id": "VUJshdxZ8N7G"
      },
      "outputs": [],
      "source": [
        "import numpy as np\n",
        "from sklearn.datasets import fetch_20newsgroups\n",
        "newsgroups_train = fetch_20newsgroups(subset='train')\n",
        "newsgroups_test = fetch_20newsgroups(subset='test')"
      ]
    },
    {
      "cell_type": "markdown",
      "metadata": {
        "id": "PXgEMdjf-drl"
      },
      "source": [
        "You can access to text by `data` property. For labels, their name and corresponding numeric values are stored in `target_names` and `target`. \\\\\n",
        "Let's take a look at our data"
      ]
    },
    {
      "cell_type": "code",
      "execution_count": 106,
      "metadata": {
        "colab": {
          "base_uri": "https://localhost:8080/"
        },
        "id": "Pri0JqOR-mP_",
        "outputId": "8f740f3d-4f79-46e3-fd83-587c42aeea6b"
      },
      "outputs": [
        {
          "output_type": "execute_result",
          "data": {
            "text/plain": [
              "11314"
            ]
          },
          "metadata": {},
          "execution_count": 106
        }
      ],
      "source": [
        "len(newsgroups_train.data)"
      ]
    },
    {
      "cell_type": "code",
      "execution_count": 107,
      "metadata": {
        "colab": {
          "base_uri": "https://localhost:8080/"
        },
        "id": "oWzOQVje-0OI",
        "outputId": "910e2669-6304-4c41-bc83-2f89aa7708ae"
      },
      "outputs": [
        {
          "output_type": "execute_result",
          "data": {
            "text/plain": [
              "(array([7, 4, 4, ..., 3, 1, 8]),\n",
              " ['alt.atheism',\n",
              "  'comp.graphics',\n",
              "  'comp.os.ms-windows.misc',\n",
              "  'comp.sys.ibm.pc.hardware',\n",
              "  'comp.sys.mac.hardware',\n",
              "  'comp.windows.x',\n",
              "  'misc.forsale',\n",
              "  'rec.autos',\n",
              "  'rec.motorcycles',\n",
              "  'rec.sport.baseball',\n",
              "  'rec.sport.hockey',\n",
              "  'sci.crypt',\n",
              "  'sci.electronics',\n",
              "  'sci.med',\n",
              "  'sci.space',\n",
              "  'soc.religion.christian',\n",
              "  'talk.politics.guns',\n",
              "  'talk.politics.mideast',\n",
              "  'talk.politics.misc',\n",
              "  'talk.religion.misc'])"
            ]
          },
          "metadata": {},
          "execution_count": 107
        }
      ],
      "source": [
        "newsgroups_train.target, newsgroups_train.target_names"
      ]
    },
    {
      "cell_type": "code",
      "execution_count": 108,
      "metadata": {
        "colab": {
          "base_uri": "https://localhost:8080/",
          "height": 122
        },
        "id": "2RDyDW0N-XGU",
        "outputId": "66474882-24f9-45e5-eaef-97ffb7e9db24"
      },
      "outputs": [
        {
          "output_type": "execute_result",
          "data": {
            "text/plain": [
              "\"From: lerxst@wam.umd.edu (where's my thing)\\nSubject: WHAT car is this!?\\nNntp-Posting-Host: rac3.wam.umd.edu\\nOrganization: University of Maryland, College Park\\nLines: 15\\n\\n I was wondering if anyone out there could enlighten me on this car I saw\\nthe other day. It was a 2-door sports car, looked to be from the late 60s/\\nearly 70s. It was called a Bricklin. The doors were really small. In addition,\\nthe front bumper was separate from the rest of the body. This is \\nall I know. If anyone can tellme a model name, engine specs, years\\nof production, where this car is made, history, or whatever info you\\nhave on this funky looking car, please e-mail.\\n\\nThanks,\\n- IL\\n   ---- brought to you by your neighborhood Lerxst ----\\n\\n\\n\\n\\n\""
            ],
            "application/vnd.google.colaboratory.intrinsic+json": {
              "type": "string"
            }
          },
          "metadata": {},
          "execution_count": 108
        }
      ],
      "source": [
        "newsgroups_train.data[0]"
      ]
    },
    {
      "cell_type": "markdown",
      "metadata": {
        "id": "U3AQxoDZ_hBe"
      },
      "source": [
        "When applying machine learning to solve problems, designing algorithm is not the only way to optimize. We can also intervene on data, i.e. data preprocessing, feature selection, etc. In some case, this approach is even better than model optimizing. \\\\\n",
        "For this dataset, you can notice that the text have lots of redundant information, for example punctuation, title, etc. We can remove those from our data to get better performance. Here I define a function to remove all punctuation from text."
      ]
    },
    {
      "cell_type": "code",
      "execution_count": 109,
      "metadata": {
        "id": "d1wQ6mFp-YyE"
      },
      "outputs": [],
      "source": [
        "def remove_tokens(token_list, text):\n",
        "    for token in token_list:\n",
        "        text = text.replace(token, '')\n",
        "    return text"
      ]
    },
    {
      "cell_type": "code",
      "execution_count": 110,
      "metadata": {
        "id": "yw6KGy8pBPUr"
      },
      "outputs": [],
      "source": [
        "from string import punctuation\n",
        "preprocessed_text = [remove_tokens(punctuation, text) for text in newsgroups_train.data]"
      ]
    },
    {
      "cell_type": "markdown",
      "metadata": {
        "id": "FK2T5rTQBZEY"
      },
      "source": [
        "**Assignment 1** : First we have to transform text into numeric feature. You have to build a matrix that counts word occurences in each documents **(0.5pt)**. For fast computing, we only select `30000` words with highest frequency. \\\\\n",
        "*Hint* You should use `sklearn.feature_extraction.text.CountVectorizer` and `max_features` argument."
      ]
    },
    {
      "cell_type": "code",
      "execution_count": 111,
      "metadata": {
        "id": "426ZmPR-ytRL",
        "outputId": "4d4f1a93-b85b-4aec-8979-2677d755aace",
        "colab": {
          "base_uri": "https://localhost:8080/"
        }
      },
      "outputs": [
        {
          "output_type": "stream",
          "name": "stdout",
          "text": [
            "(11314, 30000)\n"
          ]
        }
      ],
      "source": [
        "from sklearn.feature_extraction.text import CountVectorizer\n",
        "num_word = 30000\n",
        "vectorizer = CountVectorizer(max_features=num_word)\n",
        "train_data = vectorizer.fit_transform(preprocessed_text).toarray()\n",
        "print(train_data.shape)"
      ]
    },
    {
      "cell_type": "markdown",
      "metadata": {
        "id": "MnHe2WcpDRJ_"
      },
      "source": [
        "Recall that for Naive Bayes, we find label that satisfy \n",
        "$$c=\\arg\\max_{c'} p(c')\\prod p(x_i|c')$$\n",
        "**Assigment 2** : We will derive prior probabilities $p(c')$ from data by computing frequency of class. You have to compute the number of documents in each class in `class_freq` variable, and divide to the total number of documents to get prior probability in `prior_prob` variable **(1pt)**"
      ]
    },
    {
      "cell_type": "code",
      "execution_count": 112,
      "metadata": {
        "id": "tyufOD_ODQra",
        "outputId": "a6fb5191-29d5-43f5-9de3-65a876d2e6fc",
        "colab": {
          "base_uri": "https://localhost:8080/"
        }
      },
      "outputs": [
        {
          "output_type": "execute_result",
          "data": {
            "text/plain": [
              "array([0.04242531, 0.05161747, 0.05223617, 0.05214778, 0.05108715,\n",
              "       0.05241294, 0.05170585, 0.05250133, 0.05285487, 0.05276648,\n",
              "       0.05303164, 0.05258971, 0.05223617, 0.05250133, 0.05241294,\n",
              "       0.05294326, 0.04825879, 0.04984974, 0.04109952, 0.03332155])"
            ]
          },
          "metadata": {},
          "execution_count": 112
        }
      ],
      "source": [
        "import numpy as np\n",
        "classes,class_freq = np.unique(newsgroups_train.target,return_counts=True)\n",
        "prior_prob= class_freq/np.sum(class_freq)\n",
        "prior_prob"
      ]
    },
    {
      "cell_type": "markdown",
      "metadata": {
        "id": "ib3LX3zVGe0L"
      },
      "source": [
        "**Assigment 3** : In this step, we will implement Bernoulli Naive Bayes. Therefore, the conditional probability is probability of that a document with label $c$ has the word $x_i$. \\\\\n",
        "To do that, we need the number of documents which has word $x_i$ and label $c$ for every pair $(x_i,c)$. Your task is computing these values and store them in `word_label_freq` variable. It should be a numpy array for fast computing in the next step. **(0.5.pt)** \\\\\n",
        "*Hint:* Our `'train_data` features are the number of occurences of words in documents. You can convert them to binary feature that whether a word appears in a document."
      ]
    },
    {
      "cell_type": "code",
      "execution_count": 113,
      "metadata": {
        "id": "x5c39g3zFKX6",
        "outputId": "44c342e5-9e44-4714-e2a2-f7e8af135a5b",
        "colab": {
          "base_uri": "https://localhost:8080/"
        }
      },
      "outputs": [
        {
          "output_type": "execute_result",
          "data": {
            "text/plain": [
              "array([[ 0.,  0.,  0., ...,  0.,  0.,  0.],\n",
              "       [ 5.,  0.,  0., ..., 10.,  2.,  1.],\n",
              "       [ 2.,  0.,  1., ...,  0.,  0.,  0.],\n",
              "       ...,\n",
              "       [ 0.,  4.,  1., ...,  0.,  0.,  0.],\n",
              "       [ 1.,  0.,  0., ...,  0.,  0.,  0.],\n",
              "       [ 0.,  0.,  0., ...,  0.,  0.,  0.]])"
            ]
          },
          "metadata": {},
          "execution_count": 113
        }
      ],
      "source": [
        "\n",
        "word_label_freq = np.zeros((len(newsgroups_train.target_names),train_data.shape[1]))\n",
        "\n",
        "for i in range(len(newsgroups_train.target)):\n",
        "  word_label_freq[newsgroups_train.target[i]] += train_data[i].clip(max=1)\n",
        "\n",
        "word_label_freq\n"
      ]
    },
    {
      "cell_type": "markdown",
      "metadata": {
        "id": "uDRlWLSdGiXu"
      },
      "source": [
        "**Assigment 4** : \n",
        "The conditional probability is computed by dividing the number of documents which has word $x_i$ and label $c$ to the number of documents with label $c$. However, if there is no document which has word $x_i$ and label $c$ in training data, the probability will be zero, which is undesirable. \\\\\n",
        "To handle this problem, we can apply Laplace smoothing, then conditional probability will be computed as following\n",
        "$$p(x_i=1|c) = \\frac{N_{ic} + \\alpha}{N_c +|V|\\alpha}$$\n",
        "Your task here is implementing this formula with default `alpha=0.1` and then fill in all the probability values in `cond_prob` variable. It should be a numpy array for fast computing in the next step. **(1pt)**"
      ]
    },
    {
      "cell_type": "code",
      "execution_count": 114,
      "metadata": {
        "id": "015-PXOs2qSl"
      },
      "outputs": [],
      "source": [
        "alpha = 0.01"
      ]
    },
    {
      "cell_type": "code",
      "execution_count": 115,
      "metadata": {
        "id": "cH_GMi4nFSzk",
        "outputId": "cdba80b9-19f8-4e76-9cf0-d22beaa42158",
        "colab": {
          "base_uri": "https://localhost:8080/"
        }
      },
      "outputs": [
        {
          "output_type": "stream",
          "name": "stdout",
          "text": [
            "(20, 30000)\n"
          ]
        }
      ],
      "source": [
        "alpha = 0.01\n",
        "cond_prob = np.array([(word_label_freq[i] + alpha)/(class_freq[i] + num_word * alpha) for i in range(len(class_freq))])\n",
        "print(cond_prob.shape)"
      ]
    },
    {
      "cell_type": "markdown",
      "metadata": {
        "id": "AsBHViWqGj9U"
      },
      "source": [
        "**Assigment 5** : For test data, the conditional probabily follows Bernoulli distribution and is computed by\n",
        "$$p(x_i|c) = p(x_i=1|c)x_i + p(x_i=0|c)(1 - x_i)$$\n",
        "Then we multiply with prior probability and select the class with highest value as predicted label. For numerical stability, you should use log probability to compute. **(2pt)** \\\\\n",
        "$$c = \\arg\\max_{c'}(\\log p(c')+\\sum_{x_i\\in text}\\log p(x_i|c'))$$\n",
        "*Hint* Remember to convert test data feature to binary feature as training data.\n"
      ]
    },
    {
      "cell_type": "code",
      "execution_count": 116,
      "metadata": {
        "id": "ZbLeeFp43Eg7"
      },
      "outputs": [],
      "source": [
        "def find_label(data):\n",
        "  data = np.array(data.toarray()).flatten()\n",
        "  indices = np.where(data > 0)\n",
        "  indices_0 = np.where(data==0)\n",
        "  \n",
        "  max_value = -1e18\n",
        "  result_class = 0\n",
        "  for i,class_val in enumerate(cond_prob):\n",
        "    prod = np.log(prior_prob[i]) + np.sum(np.log(class_val[indices])) + np.sum(np.log(1 - class_val[indices_0]))\n",
        "    if prod >= max_value:\n",
        "      result_class = i\n",
        "      max_value = prod\n",
        "  return result_class\n",
        "  "
      ]
    },
    {
      "cell_type": "markdown",
      "metadata": {
        "id": "epm5l9atNAMr"
      },
      "source": [
        "Now we can obtain labels and accuracy score of model on test data"
      ]
    },
    {
      "cell_type": "code",
      "execution_count": 117,
      "metadata": {
        "id": "bxBsRI6f4Jym"
      },
      "outputs": [],
      "source": [
        "preprocessed_test_text = [remove_tokens(punctuation, text) for text in newsgroups_test.data]\n",
        "test_data = vectorizer.transform(preprocessed_test_text)"
      ]
    },
    {
      "cell_type": "code",
      "execution_count": 118,
      "metadata": {
        "colab": {
          "base_uri": "https://localhost:8080/"
        },
        "id": "wNLWpQMc4a9s",
        "outputId": "2ba3a544-7142-442f-d7ae-e5105c0e6065"
      },
      "outputs": [
        {
          "output_type": "stream",
          "name": "stderr",
          "text": [
            "7532it [01:15, 100.39it/s]\n"
          ]
        }
      ],
      "source": [
        "pred = []\n",
        "from tqdm import tqdm\n",
        "for text in tqdm(test_data):\n",
        "    pred.append(find_label(text))"
      ]
    },
    {
      "cell_type": "code",
      "execution_count": 119,
      "metadata": {
        "colab": {
          "base_uri": "https://localhost:8080/"
        },
        "id": "MSEKT9t-7KgT",
        "outputId": "9d43aee8-0030-40b3-e6ed-258bbff387d2"
      },
      "outputs": [
        {
          "output_type": "execute_result",
          "data": {
            "text/plain": [
              "0.7825278810408922"
            ]
          },
          "metadata": {},
          "execution_count": 119
        }
      ],
      "source": [
        "from sklearn import metrics\n",
        "metrics.accuracy_score(pred, newsgroups_test.target)"
      ]
    },
    {
      "cell_type": "markdown",
      "metadata": {
        "id": "x70hGH3RGlbI"
      },
      "source": [
        "**Assigment 6** : Next, we will implement Multinomial Naive Bayes. For this model, the conditional probability follows multinomial distribution. We have to estimate conditional probabilities from data as the frequency of words in all documents with a given class. \\\\\n",
        "First, you have to count the number of occurences of a word $x_i$ in all document with class $c$ **(0.5pt)**."
      ]
    },
    {
      "cell_type": "code",
      "execution_count": 120,
      "metadata": {
        "id": "_ZGCBLk8FaHw",
        "outputId": "4e5c3da4-6689-483e-f39c-a29ea407b2da",
        "colab": {
          "base_uri": "https://localhost:8080/"
        }
      },
      "outputs": [
        {
          "output_type": "stream",
          "name": "stdout",
          "text": [
            "[[ 0.  0.  0. ...  0.  0.  0.]\n",
            " [18.  0.  0. ... 10.  2.  1.]\n",
            " [ 4.  0.  1. ...  0.  0.  0.]\n",
            " ...\n",
            " [ 0.  4.  1. ...  0.  0.  0.]\n",
            " [ 1.  0.  0. ...  0.  0.  0.]\n",
            " [ 0.  0.  0. ...  0.  0.  0.]]\n"
          ]
        }
      ],
      "source": [
        "word_label_freq = np.zeros((len(newsgroups_train.target_names),train_data.shape[1]))\n",
        "for i in range(len(newsgroups_train.target)):\n",
        "  word_label_freq[newsgroups_train.target[i]] += train_data[i]\n",
        "  \n",
        "print(word_label_freq)"
      ]
    },
    {
      "cell_type": "markdown",
      "metadata": {
        "id": "4GP4fhl_GsOQ"
      },
      "source": [
        "**Assigment 7** : Your task here is to count the total number of words in all documents of class $c$ to compute probability in next step. **(0.5)pt** \\\\\n",
        "*Hint* You can sum the number of occurences of all words in class $c$ that we obtained in last step."
      ]
    },
    {
      "cell_type": "code",
      "execution_count": 121,
      "metadata": {
        "id": "W2yAJ49sFud0",
        "outputId": "b73d0148-0b32-4ac3-bfeb-f727cb42d911",
        "colab": {
          "base_uri": "https://localhost:8080/"
        }
      },
      "outputs": [
        {
          "output_type": "stream",
          "name": "stdout",
          "text": [
            "[149997. 110358.  93067. 103648.  92609. 147439.  69568. 117770. 106393.\n",
            " 115963. 152844. 203722. 107589. 155324. 155745. 203120. 178699. 255412.\n",
            " 187744. 120767.]\n"
          ]
        }
      ],
      "source": [
        "num_word_in_classes = np.sum(word_label_freq,axis=1)\n",
        "print(num_word_in_classes)"
      ]
    },
    {
      "cell_type": "markdown",
      "metadata": {
        "id": "9S4qCZrtGtwO"
      },
      "source": [
        "**Assigment 8** : Now we can compute conditional probability for every pair $(x_i, c)$. Similar to Bernoulli Naive Bayes, we also add Laplace smoothing to avoid zero probability\n",
        "$$p(x_i|c) = \\frac{N_{ic} + \\alpha}{N_c +|V|\\alpha}$$\n",
        "where $N_{ic}$ is the number of occurences of word $x_i$ in all documents with class $c$, $N_c$ is the total number of words in all documents of class $c$. \\\\\n",
        "For numerical stability, you should compute log of probablity **(1pt)**."
      ]
    },
    {
      "cell_type": "code",
      "execution_count": 122,
      "metadata": {
        "id": "gUMX_iwDFwr3"
      },
      "outputs": [],
      "source": [
        "log_cond_prob = np.array([np.log(word_label_freq[i] + alpha) - np.log(num_word_in_classes[i] + num_word * alpha) for i in range(len(class_freq))])\n"
      ]
    },
    {
      "cell_type": "markdown",
      "metadata": {
        "id": "whEfFBPC-W2H"
      },
      "source": [
        "**Assignment 9** : After getting all necessary probabilities, we can find label of new test data. For this task, you have to implement `find_label` function that compute product of prior and conditional probablities, and select the label with highest value. Finally, you can get prediction for all test data and get accuracy score **(3pt)**."
      ]
    },
    {
      "cell_type": "code",
      "execution_count": 123,
      "metadata": {
        "id": "J7pylT3i_CiO"
      },
      "outputs": [],
      "source": [
        "def find_label(data):\n",
        "  data = np.array(data.toarray()).flatten()\n",
        "  indices = np.where(data > 0)\n",
        "  indices_0 = np.where(data==0)\n",
        "  #print(indices)\n",
        "  #print(data.shape)\n",
        "  mx_val = -1e18\n",
        "  result_class = 0\n",
        "  for i,class_val in enumerate(log_cond_prob):\n",
        "    prod = np.log(prior_prob[i]) + np.sum(class_val[indices]) + np.sum(np.log(1 - np.exp(class_val[indices_0])))\n",
        "    if prod >= mx_val:\n",
        "      result_class = i\n",
        "      mx_val = prod\n",
        "  return result_class"
      ]
    },
    {
      "cell_type": "code",
      "execution_count": 124,
      "metadata": {
        "colab": {
          "base_uri": "https://localhost:8080/"
        },
        "id": "WHolEq4mb3Jc",
        "outputId": "23eb5f2d-db91-4b1c-ab6d-feaa5a86d758"
      },
      "outputs": [
        {
          "output_type": "stream",
          "name": "stderr",
          "text": [
            "7532it [02:34, 48.84it/s]\n"
          ]
        },
        {
          "output_type": "execute_result",
          "data": {
            "text/plain": [
              "0.8203664365374402"
            ]
          },
          "metadata": {},
          "execution_count": 124
        }
      ],
      "source": [
        "pred = []\n",
        "for text in tqdm(test_data):\n",
        "    pred.append(find_label(text))\n",
        "metrics.accuracy_score(pred, newsgroups_test.target)"
      ]
    },
    {
      "cell_type": "markdown",
      "metadata": {
        "id": "VU9JwQ85N6bv"
      },
      "source": [
        "**(Optional)** Try to improve performance of Naive Bayes model in this dataset. You can try everything to do this, i.e. change hyperparameters, preprocess data, ..."
      ]
    }
  ],
  "metadata": {
    "colab": {
      "provenance": [],
      "include_colab_link": true
    },
    "kernelspec": {
      "display_name": "Python 3",
      "name": "python3"
    },
    "language_info": {
      "name": "python"
    }
  },
  "nbformat": 4,
  "nbformat_minor": 0
}